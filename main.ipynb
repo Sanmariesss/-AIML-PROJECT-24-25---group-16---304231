{
 "cells": [
  {
   "cell_type": "code",
   "execution_count": null,
   "id": "e3151925-d0fa-41f1-b252-c117f75b88c8",
   "metadata": {},
   "outputs": [],
   "source": [
    "import pandas as pd\n",
    "data = pd.read_csv('/Users/sabinanurseitova/Desktop/AI project/aeropolis.csv')\n",
    "print(data.head())"
   ]
  },
  {
   "cell_type": "code",
   "execution_count": null,
   "id": "b2a62ee1-1012-4ac5-9c23-c829e974ad00",
   "metadata": {},
   "outputs": [],
   "source": [
    "# Get an overview of the dataset\n",
    "data.info()\n",
    "\n",
    "# Check for missing values\n",
    "print(data.isnull().sum())\n",
    "\n",
    "# Show basic statistics for numerical columns\n",
    "print(data.describe())\n"
   ]
  },
  {
   "cell_type": "code",
   "execution_count": null,
   "id": "ddaf0a21-6641-4045-b918-351ab19120c2",
   "metadata": {},
   "outputs": [],
   "source": []
  }
 ],
 "metadata": {
  "kernelspec": {
   "display_name": "Python 3 (ipykernel)",
   "language": "python",
   "name": "python3"
  },
  "language_info": {
   "codemirror_mode": {
    "name": "ipython",
    "version": 3
   },
   "file_extension": ".py",
   "mimetype": "text/x-python",
   "name": "python",
   "nbconvert_exporter": "python",
   "pygments_lexer": "ipython3",
   "version": "3.11.4"
  }
 },
 "nbformat": 4,
 "nbformat_minor": 5
}
